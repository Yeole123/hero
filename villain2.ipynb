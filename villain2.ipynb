{
 "cells": [
  {
   "cell_type": "code",
   "execution_count": 2,
   "id": "1aa1a0c3",
   "metadata": {},
   "outputs": [
    {
     "name": "stdout",
     "output_type": "stream",
     "text": [
      "hello i am from villain2 \n"
     ]
    }
   ],
   "source": [
    "print('hello i am from villain2 ')"
   ]
  },
  {
   "cell_type": "code",
   "execution_count": null,
   "id": "9a2d6861",
   "metadata": {},
   "outputs": [],
   "source": []
  }
 ],
 "metadata": {
  "language_info": {
   "name": "python"
  }
 },
 "nbformat": 4,
 "nbformat_minor": 5
}
