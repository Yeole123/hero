{
 "cells": [
  {
   "cell_type": "code",
   "execution_count": 1,
   "id": "5ab6d94b",
   "metadata": {},
   "outputs": [
    {
     "name": "stdout",
     "output_type": "stream",
     "text": [
      "hello my name is atharv manish yeole \n"
     ]
    }
   ],
   "source": [
    "print('hello my name is atharv manish yeole ')"
   ]
  },
  {
   "cell_type": "code",
   "execution_count": null,
   "id": "0a84e85a",
   "metadata": {},
   "outputs": [],
   "source": []
  }
 ],
 "metadata": {
  "kernelspec": {
   "display_name": "base",
   "language": "python",
   "name": "python3"
  },
  "language_info": {
   "codemirror_mode": {
    "name": "ipython",
    "version": 3
   },
   "file_extension": ".py",
   "mimetype": "text/x-python",
   "name": "python",
   "nbconvert_exporter": "python",
   "pygments_lexer": "ipython3",
   "version": "3.12.4"
  }
 },
 "nbformat": 4,
 "nbformat_minor": 5
}
